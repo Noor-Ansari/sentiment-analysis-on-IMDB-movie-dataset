{
  "nbformat": 4,
  "nbformat_minor": 0,
  "metadata": {
    "kernelspec": {
      "display_name": "Python 3",
      "language": "python",
      "name": "python3"
    },
    "language_info": {
      "codemirror_mode": {
        "name": "ipython",
        "version": 3
      },
      "file_extension": ".py",
      "mimetype": "text/x-python",
      "name": "python",
      "nbconvert_exporter": "python",
      "pygments_lexer": "ipython3",
      "version": "3.8.3"
    },
    "colab": {
      "name": "sentiment.ipynb",
      "provenance": [],
      "collapsed_sections": []
    },
    "accelerator": "GPU"
  },
  "cells": [
    {
      "cell_type": "code",
      "metadata": {
        "colab": {
          "base_uri": "https://localhost:8080/"
        },
        "id": "QPnTrN8GmHzt",
        "outputId": "b028297d-cbfd-4eb9-c8a4-8bfca05b8362"
      },
      "source": [
        "# import essential libraries\n",
        "\n",
        "import pandas as pd\n",
        "from tensorflow.keras.preprocessing.text import Tokenizer\n",
        "from tensorflow.keras.preprocessing.sequence import pad_sequences\n",
        "from sklearn.metrics import confusion_matrix\n",
        "import seaborn as sns\n",
        "import tensorflow as tf\n",
        "import itertools\n",
        "import numpy as np \n",
        "import matplotlib.pyplot as plt \n",
        "import nltk \n",
        "import re\n",
        "nltk.download('stopwords')\n",
        "from nltk.corpus import stopwords \n",
        "from nltk.stem.porter import PorterStemmer"
      ],
      "execution_count": 2,
      "outputs": [
        {
          "output_type": "stream",
          "text": [
            "[nltk_data] Downloading package stopwords to /root/nltk_data...\n",
            "[nltk_data]   Unzipping corpora/stopwords.zip.\n"
          ],
          "name": "stdout"
        }
      ]
    },
    {
      "cell_type": "code",
      "metadata": {
        "colab": {
          "base_uri": "https://localhost:8080/",
          "height": 206
        },
        "id": "RaTzxazPmH0A",
        "outputId": "71515f60-aa4c-40a1-f9a0-219793e4598b"
      },
      "source": [
        "dataset = pd.read_csv(\"/content/drive/MyDrive/IMDB movies/IMDB Dataset.csv\")\n",
        "dataset.head()"
      ],
      "execution_count": 5,
      "outputs": [
        {
          "output_type": "execute_result",
          "data": {
            "text/html": [
              "<div>\n",
              "<style scoped>\n",
              "    .dataframe tbody tr th:only-of-type {\n",
              "        vertical-align: middle;\n",
              "    }\n",
              "\n",
              "    .dataframe tbody tr th {\n",
              "        vertical-align: top;\n",
              "    }\n",
              "\n",
              "    .dataframe thead th {\n",
              "        text-align: right;\n",
              "    }\n",
              "</style>\n",
              "<table border=\"1\" class=\"dataframe\">\n",
              "  <thead>\n",
              "    <tr style=\"text-align: right;\">\n",
              "      <th></th>\n",
              "      <th>review</th>\n",
              "      <th>sentiment</th>\n",
              "    </tr>\n",
              "  </thead>\n",
              "  <tbody>\n",
              "    <tr>\n",
              "      <th>0</th>\n",
              "      <td>One of the other reviewers has mentioned that ...</td>\n",
              "      <td>positive</td>\n",
              "    </tr>\n",
              "    <tr>\n",
              "      <th>1</th>\n",
              "      <td>A wonderful little production. &lt;br /&gt;&lt;br /&gt;The...</td>\n",
              "      <td>positive</td>\n",
              "    </tr>\n",
              "    <tr>\n",
              "      <th>2</th>\n",
              "      <td>I thought this was a wonderful way to spend ti...</td>\n",
              "      <td>positive</td>\n",
              "    </tr>\n",
              "    <tr>\n",
              "      <th>3</th>\n",
              "      <td>Basically there's a family where a little boy ...</td>\n",
              "      <td>negative</td>\n",
              "    </tr>\n",
              "    <tr>\n",
              "      <th>4</th>\n",
              "      <td>Petter Mattei's \"Love in the Time of Money\" is...</td>\n",
              "      <td>positive</td>\n",
              "    </tr>\n",
              "  </tbody>\n",
              "</table>\n",
              "</div>"
            ],
            "text/plain": [
              "                                              review sentiment\n",
              "0  One of the other reviewers has mentioned that ...  positive\n",
              "1  A wonderful little production. <br /><br />The...  positive\n",
              "2  I thought this was a wonderful way to spend ti...  positive\n",
              "3  Basically there's a family where a little boy ...  negative\n",
              "4  Petter Mattei's \"Love in the Time of Money\" is...  positive"
            ]
          },
          "metadata": {
            "tags": []
          },
          "execution_count": 5
        }
      ]
    },
    {
      "cell_type": "code",
      "metadata": {
        "id": "ixHv_sbUmH0G"
      },
      "source": [
        "X = dataset[\"review\"].values\n",
        "y = dataset[\"sentiment\"].values\n",
        "y = [1 if i==\"positive\" else 0 for i in y]"
      ],
      "execution_count": 6,
      "outputs": []
    },
    {
      "cell_type": "code",
      "metadata": {
        "id": "L-0NLwSYn4iU"
      },
      "source": [
        "# preprocessing of data\r\n",
        "\r\n",
        "stemmer =  PorterStemmer()\r\n",
        "corpus = []\r\n",
        "\r\n",
        "def process(X,output):\r\n",
        "    for i in range(0,len(X)):\r\n",
        "      review = re.compile(r'<[^>]+>').sub(' ', X[i])\r\n",
        "      review = re.sub('[^a-zA-Z]',' ', review)\r\n",
        "      review = review.lower()\r\n",
        "      review = review.split()\r\n",
        "      review = [stemmer.stem(w) for w in review if w not in stopwords.words('english')]\r\n",
        "      review = \" \".join(review)\r\n",
        "      output.append(review)\r\n",
        "    print(\"Pre-processing of the data has been finished !!!\")"
      ],
      "execution_count": 7,
      "outputs": []
    },
    {
      "cell_type": "code",
      "metadata": {
        "colab": {
          "base_uri": "https://localhost:8080/"
        },
        "id": "o2eGJUy-oXvn",
        "outputId": "98ddb26d-7f79-4151-c6bc-1938212d2cce"
      },
      "source": [
        "process(X, corpus)"
      ],
      "execution_count": 8,
      "outputs": [
        {
          "output_type": "stream",
          "text": [
            "Pre-processing of the data has been finished !!!\n"
          ],
          "name": "stdout"
        }
      ]
    },
    {
      "cell_type": "code",
      "metadata": {
        "colab": {
          "base_uri": "https://localhost:8080/"
        },
        "id": "8w6alh1FxiEr",
        "outputId": "b67d9601-ca5c-43ad-dd9f-706290f3ad8f"
      },
      "source": [
        "len(corpus)"
      ],
      "execution_count": 9,
      "outputs": [
        {
          "output_type": "execute_result",
          "data": {
            "text/plain": [
              "50000"
            ]
          },
          "metadata": {
            "tags": []
          },
          "execution_count": 9
        }
      ]
    },
    {
      "cell_type": "code",
      "metadata": {
        "id": "mDFp5NwZmH0L"
      },
      "source": [
        "X_train = list(corpus[:40000])\n",
        "X_valid = list(corpus[40000:45000])\n",
        "X_test = list(corpus[45000:50000])\n",
        "y_train = list(y[:40000])\n",
        "y_valid = list(y[40000:45000])\n",
        "y_test = list(y[45000:50000])"
      ],
      "execution_count": 10,
      "outputs": []
    },
    {
      "cell_type": "code",
      "metadata": {
        "id": "WVigz1LLmH0Q"
      },
      "source": [
        "tokenizer = Tokenizer(num_words=50000,oov_token=\"<OOV>\")\n",
        "tokenizer.fit_on_texts(X_train)\n",
        "word_index = tokenizer.word_index\n",
        "\n",
        "X_train_sequence = tokenizer.texts_to_sequences(X_train)\n",
        "padded_X_train = pad_sequences(X_train_sequence,padding=\"post\" ,maxlen=300, truncating=\"post\")\n",
        "\n",
        "X_test_sequence = tokenizer.texts_to_sequences(X_test)\n",
        "padded_X_test = pad_sequences(X_test_sequence,padding=\"post\" ,maxlen=300, truncating=\"post\")\n",
        "\n",
        "X_valid_sequence = tokenizer.texts_to_sequences(X_valid)\n",
        "padded_X_valid = pad_sequences(X_valid_sequence,padding=\"post\" ,maxlen=300, truncating=\"post\")"
      ],
      "execution_count": 11,
      "outputs": []
    },
    {
      "cell_type": "code",
      "metadata": {
        "id": "bNYUmGH8mH0W"
      },
      "source": [
        "# Now convert all list to numpy array before feeding to network\n",
        "\n",
        "padded_X_train = np.array(padded_X_train)\n",
        "padded_X_test = np.array(padded_X_test)\n",
        "padded_X_valid = np.array(padded_X_valid)\n",
        "y_train = np.array(y_train)\n",
        "y_test = np.array(y_test)\n",
        "y_valid = np.array(y_valid)"
      ],
      "execution_count": 12,
      "outputs": []
    },
    {
      "cell_type": "code",
      "metadata": {
        "colab": {
          "base_uri": "https://localhost:8080/"
        },
        "id": "gweV8emnyOp_",
        "outputId": "dcb211ba-e76e-458b-d483-539080f5f3e5"
      },
      "source": [
        "padded_X_train.shape, padded_X_test.shape, padded_X_valid.shape, y_train.shape, y_test.shape, y_valid.shape    "
      ],
      "execution_count": 13,
      "outputs": [
        {
          "output_type": "execute_result",
          "data": {
            "text/plain": [
              "((40000, 300), (5000, 300), (5000, 300), (40000,), (5000,), (5000,))"
            ]
          },
          "metadata": {
            "tags": []
          },
          "execution_count": 13
        }
      ]
    },
    {
      "cell_type": "code",
      "metadata": {
        "id": "i1Dqs-btmH0Y"
      },
      "source": [
        "# model architecture\n",
        "\n",
        "model = tf.keras.Sequential()\n",
        "model.add(tf.keras.layers.Embedding(50000,32,input_length=300))\n",
        "model.add(tf.keras.layers.GlobalAveragePooling1D())\n",
        "model.add(tf.keras.layers.Dense(32, activation='relu'))\n",
        "model.add(tf.keras.layers.Dropout(0.3))\n",
        "model.add(tf.keras.layers.Dense(64,activation='relu'))\n",
        "model.add(tf.keras.layers.Dropout(0.3))\n",
        "model.add(tf.keras.layers.Dense(128,activation='relu'))\n",
        "model.add(tf.keras.layers.Dropout(0.3))\n",
        "model.add(tf.keras.layers.Dense(1,activation='sigmoid'))"
      ],
      "execution_count": 14,
      "outputs": []
    },
    {
      "cell_type": "code",
      "metadata": {
        "colab": {
          "base_uri": "https://localhost:8080/"
        },
        "id": "isbdSeN40mfv",
        "outputId": "9ee1be7d-ea99-40b0-86e9-52c1322054f6"
      },
      "source": [
        "model.summary()"
      ],
      "execution_count": 15,
      "outputs": [
        {
          "output_type": "stream",
          "text": [
            "Model: \"sequential\"\n",
            "_________________________________________________________________\n",
            "Layer (type)                 Output Shape              Param #   \n",
            "=================================================================\n",
            "embedding (Embedding)        (None, 300, 32)           1600000   \n",
            "_________________________________________________________________\n",
            "global_average_pooling1d (Gl (None, 32)                0         \n",
            "_________________________________________________________________\n",
            "dense (Dense)                (None, 32)                1056      \n",
            "_________________________________________________________________\n",
            "dropout (Dropout)            (None, 32)                0         \n",
            "_________________________________________________________________\n",
            "dense_1 (Dense)              (None, 64)                2112      \n",
            "_________________________________________________________________\n",
            "dropout_1 (Dropout)          (None, 64)                0         \n",
            "_________________________________________________________________\n",
            "dense_2 (Dense)              (None, 128)               8320      \n",
            "_________________________________________________________________\n",
            "dropout_2 (Dropout)          (None, 128)               0         \n",
            "_________________________________________________________________\n",
            "dense_3 (Dense)              (None, 1)                 129       \n",
            "=================================================================\n",
            "Total params: 1,611,617\n",
            "Trainable params: 1,611,617\n",
            "Non-trainable params: 0\n",
            "_________________________________________________________________\n"
          ],
          "name": "stdout"
        }
      ]
    },
    {
      "cell_type": "code",
      "metadata": {
        "scrolled": false,
        "colab": {
          "base_uri": "https://localhost:8080/"
        },
        "id": "07aRVEddmH0a",
        "outputId": "adcad685-1aa4-4eed-d453-b4db96938a53"
      },
      "source": [
        "# Now specify loss, optimizer and metrics arguments\n",
        "\n",
        "model.compile(loss='binary_crossentropy', optimizer='adam', metrics=['accuracy'])\n",
        "\n",
        "# fit the model\n",
        "\n",
        "history = model.fit(x=padded_X_train, y=y_train, validation_data=(padded_X_valid, y_valid), epochs=20, batch_size=16)"
      ],
      "execution_count": 16,
      "outputs": [
        {
          "output_type": "stream",
          "text": [
            "Epoch 1/20\n",
            "2500/2500 [==============================] - 38s 14ms/step - loss: 0.4709 - accuracy: 0.7449 - val_loss: 0.3511 - val_accuracy: 0.8514\n",
            "Epoch 2/20\n",
            "2500/2500 [==============================] - 35s 14ms/step - loss: 0.2101 - accuracy: 0.9183 - val_loss: 0.2620 - val_accuracy: 0.8928\n",
            "Epoch 3/20\n",
            "2500/2500 [==============================] - 35s 14ms/step - loss: 0.1499 - accuracy: 0.9436 - val_loss: 0.2818 - val_accuracy: 0.8924\n",
            "Epoch 4/20\n",
            "2500/2500 [==============================] - 36s 14ms/step - loss: 0.1131 - accuracy: 0.9567 - val_loss: 0.3236 - val_accuracy: 0.8854\n",
            "Epoch 5/20\n",
            "2500/2500 [==============================] - 37s 15ms/step - loss: 0.0928 - accuracy: 0.9638 - val_loss: 0.4131 - val_accuracy: 0.8820\n",
            "Epoch 6/20\n",
            "2500/2500 [==============================] - 36s 15ms/step - loss: 0.0762 - accuracy: 0.9701 - val_loss: 0.5564 - val_accuracy: 0.8570\n",
            "Epoch 7/20\n",
            "2500/2500 [==============================] - 37s 15ms/step - loss: 0.0687 - accuracy: 0.9718 - val_loss: 0.5506 - val_accuracy: 0.8824\n",
            "Epoch 8/20\n",
            "2500/2500 [==============================] - 36s 14ms/step - loss: 0.0572 - accuracy: 0.9767 - val_loss: 0.6315 - val_accuracy: 0.8840\n",
            "Epoch 9/20\n",
            "2500/2500 [==============================] - 36s 14ms/step - loss: 0.0467 - accuracy: 0.9803 - val_loss: 0.7238 - val_accuracy: 0.8758\n",
            "Epoch 10/20\n",
            "2500/2500 [==============================] - 35s 14ms/step - loss: 0.0418 - accuracy: 0.9828 - val_loss: 0.6242 - val_accuracy: 0.8510\n",
            "Epoch 11/20\n",
            "2500/2500 [==============================] - 36s 14ms/step - loss: 0.0363 - accuracy: 0.9856 - val_loss: 0.8182 - val_accuracy: 0.8798\n",
            "Epoch 12/20\n",
            "2500/2500 [==============================] - 35s 14ms/step - loss: 0.0337 - accuracy: 0.9865 - val_loss: 0.9168 - val_accuracy: 0.8780\n",
            "Epoch 13/20\n",
            "2500/2500 [==============================] - 35s 14ms/step - loss: 0.0328 - accuracy: 0.9867 - val_loss: 0.9615 - val_accuracy: 0.8522\n",
            "Epoch 14/20\n",
            "2500/2500 [==============================] - 35s 14ms/step - loss: 0.0305 - accuracy: 0.9892 - val_loss: 1.0646 - val_accuracy: 0.8810\n",
            "Epoch 15/20\n",
            "2500/2500 [==============================] - 36s 14ms/step - loss: 0.0285 - accuracy: 0.9892 - val_loss: 1.0580 - val_accuracy: 0.8750\n",
            "Epoch 16/20\n",
            "2500/2500 [==============================] - 35s 14ms/step - loss: 0.0226 - accuracy: 0.9914 - val_loss: 0.9567 - val_accuracy: 0.8726\n",
            "Epoch 17/20\n",
            "2500/2500 [==============================] - 35s 14ms/step - loss: 0.0212 - accuracy: 0.9922 - val_loss: 1.2088 - val_accuracy: 0.8784\n",
            "Epoch 18/20\n",
            "2500/2500 [==============================] - 35s 14ms/step - loss: 0.0168 - accuracy: 0.9943 - val_loss: 1.2139 - val_accuracy: 0.8768\n",
            "Epoch 19/20\n",
            "2500/2500 [==============================] - 35s 14ms/step - loss: 0.0213 - accuracy: 0.9924 - val_loss: 1.2254 - val_accuracy: 0.8788\n",
            "Epoch 20/20\n",
            "2500/2500 [==============================] - 36s 14ms/step - loss: 0.0148 - accuracy: 0.9942 - val_loss: 1.1945 - val_accuracy: 0.8782\n"
          ],
          "name": "stdout"
        }
      ]
    },
    {
      "cell_type": "code",
      "metadata": {
        "colab": {
          "base_uri": "https://localhost:8080/"
        },
        "id": "L_g0fWltmH0d",
        "outputId": "0448d7a7-262b-484a-929b-8084dcb2e611"
      },
      "source": [
        "# evaluation of model\n",
        "loss, accuracy = model.evaluate(padded_X_test, y_test)\n",
        "print(\"Loss :-\", loss)\n",
        "print(\"Accuracy :-\", accuracy*100)"
      ],
      "execution_count": 17,
      "outputs": [
        {
          "output_type": "stream",
          "text": [
            "157/157 [==============================] - 0s 2ms/step - loss: 1.3332 - accuracy: 0.8692\n",
            "Loss :- 1.333190679550171\n",
            "Accuracy :- 86.91999912261963\n"
          ],
          "name": "stdout"
        }
      ]
    },
    {
      "cell_type": "code",
      "metadata": {
        "id": "Zr8_zsNymH0l"
      },
      "source": [
        "# model prediction\n",
        "\n",
        "y_pred = model.predict(padded_X_test)\n",
        "y_pred = [np.round(i) for i in y_pred]"
      ],
      "execution_count": 18,
      "outputs": []
    },
    {
      "cell_type": "code",
      "metadata": {
        "colab": {
          "base_uri": "https://localhost:8080/",
          "height": 366
        },
        "id": "fm4K3o08mH0n",
        "outputId": "3f874730-2f53-4fa7-8567-033c90e0886b"
      },
      "source": [
        "# function to plot the confusion matrix\n",
        "\n",
        "def plot_confusion_matrix(cm, classes,\n",
        "                          normalize=False,\n",
        "                          title='Confusion matrix',\n",
        "                          cmap=plt.cm.Blues):\n",
        "    \"\"\"\n",
        "    This function prints and plots the confusion matrix.\n",
        "    Normalization can be applied by setting `normalize=True`.\n",
        "    \"\"\"\n",
        "    plt.imshow(cm, interpolation='nearest', cmap=cmap)\n",
        "    plt.title(title)\n",
        "    plt.colorbar()\n",
        "    tick_marks = np.arange(len(classes))\n",
        "    plt.xticks(tick_marks, classes, rotation=45)\n",
        "    plt.yticks(tick_marks, classes)\n",
        "\n",
        "    if normalize:\n",
        "        cm = cm.astype('float') / cm.sum(axis=1)[:, np.newaxis]\n",
        "        print(\"Normalized confusion matrix\")\n",
        "    else:\n",
        "        print('Confusion matrix, without normalization')\n",
        "\n",
        "    print(cm)\n",
        "\n",
        "    thresh = cm.max() / 2.\n",
        "    for i, j in itertools.product(range(cm.shape[0]), range(cm.shape[1])):\n",
        "        plt.text(j, i, cm[i, j],\n",
        "            horizontalalignment=\"center\",\n",
        "            color=\"white\" if cm[i, j] > thresh else \"black\")\n",
        "\n",
        "    plt.tight_layout()\n",
        "    plt.ylabel('True label')\n",
        "    plt.xlabel('Predicted label')\n",
        "    \n",
        "cm = confusion_matrix(y_test, y_pred)\n",
        "cm_plot_labels = ['Negative', 'Positive']\n",
        "plot_confusion_matrix(cm, cm_plot_labels)"
      ],
      "execution_count": 19,
      "outputs": [
        {
          "output_type": "stream",
          "text": [
            "Confusion matrix, without normalization\n",
            "[[2177  353]\n",
            " [ 301 2169]]\n"
          ],
          "name": "stdout"
        },
        {
          "output_type": "display_data",
          "data": {
            "image/png": "[encoded data removed]",
            "text/plain": [
              "<Figure size 432x288 with 2 Axes>"
            ]
          },
          "metadata": {
            "tags": [],
            "needs_background": "light"
          }
        }
      ]
    },
    {
      "cell_type": "code",
      "metadata": {
        "id": "tljpqAuYmH0s"
      },
      "source": [
        "# now reverse the word_index \n",
        "rev_word_index = dict([(value,key) for (key,value) in word_index.items()])\n",
        "\n",
        "# helper function for decoding\n",
        "def decode(text):\n",
        "    return \" \".join([rev_word_index.get(i,'?') for i in text])"
      ],
      "execution_count": 20,
      "outputs": []
    },
    {
      "cell_type": "code",
      "metadata": {
        "id": "QxHWBKFtmH0s"
      },
      "source": [
        "# now test the model on new data\n",
        "\n",
        "def pred_func(test_sent):\n",
        "    test_seq = tokenizer.texts_to_sequences(test_sent)\n",
        "    padded_test = pad_sequences(test_seq, padding=\"post\", maxlen=300,truncating=\"post\")\n",
        "    res = model.predict(padded_test)\n",
        "    if res<0.5:\n",
        "      return 0\n",
        "    else:\n",
        "      return 1"
      ],
      "execution_count": 36,
      "outputs": []
    },
    {
      "cell_type": "code",
      "metadata": {
        "colab": {
          "base_uri": "https://localhost:8080/"
        },
        "id": "0bYhXQt8IZAa",
        "outputId": "a6aed290-5989-42b6-9e35-a119be8a2a52"
      },
      "source": [
        "pred = pred_func([X_test[228]])\r\n",
        "print(\"Actual output :-\",y_test[228])\r\n",
        "print(\"Predicted output :-\", pred)"
      ],
      "execution_count": 40,
      "outputs": [
        {
          "output_type": "stream",
          "text": [
            "Actual output :- 0\n",
            "Predicted output :- 0\n"
          ],
          "name": "stdout"
        }
      ]
    },
    {
      "cell_type": "code",
      "metadata": {
        "id": "9dRied5DmH0v"
      },
      "source": [
        "# save the model\n",
        "\n",
        "model.save(\"/content/drive/MyDrive/IMDB movies/sentiment_classifier.h5\")"
      ],
      "execution_count": 42,
      "outputs": []
    }
  ]
}